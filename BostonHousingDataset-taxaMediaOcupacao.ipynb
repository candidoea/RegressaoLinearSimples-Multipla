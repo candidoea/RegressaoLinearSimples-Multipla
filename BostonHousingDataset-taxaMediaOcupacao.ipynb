{
 "cells": [
  {
   "cell_type": "code",
   "execution_count": 3,
   "id": "9ca830b5",
   "metadata": {},
   "outputs": [],
   "source": [
    "# Carregando o dataset Boston Housing, disponível na biblioteca Sklearn\n",
    "from sklearn.datasets import load_boston\n",
    "boston = load_boston() # corrigindo a chamada da função load_boston com os parênteses\n",
    "\n",
    "# Carregando as bibliotecas que serão usadas\n",
    "import numpy as np\n",
    "import pandas as pd\n",
    "import seaborn as sb\n",
    "import matplotlib.pyplot as plt\n",
    "import matplotlib as mpl\n",
    "import warnings \n",
    "warnings.filterwarnings(\"ignore\") # suprimindo avisos\n",
    "# tornando os gráficos do Matplotlib incorporados no notebook\n",
    "%matplotlib inline"
   ]
  },
  {
   "cell_type": "code",
   "execution_count": 4,
   "id": "d51dcc40",
   "metadata": {},
   "outputs": [
    {
     "data": {
      "text/html": [
       "<div>\n",
       "<style scoped>\n",
       "    .dataframe tbody tr th:only-of-type {\n",
       "        vertical-align: middle;\n",
       "    }\n",
       "\n",
       "    .dataframe tbody tr th {\n",
       "        vertical-align: top;\n",
       "    }\n",
       "\n",
       "    .dataframe thead th {\n",
       "        text-align: right;\n",
       "    }\n",
       "</style>\n",
       "<table border=\"1\" class=\"dataframe\">\n",
       "  <thead>\n",
       "    <tr style=\"text-align: right;\">\n",
       "      <th></th>\n",
       "      <th>CRIM</th>\n",
       "      <th>ZN</th>\n",
       "      <th>INDUS</th>\n",
       "      <th>CHAS</th>\n",
       "      <th>NOX</th>\n",
       "      <th>RM</th>\n",
       "      <th>AGE</th>\n",
       "      <th>DIS</th>\n",
       "      <th>RAD</th>\n",
       "      <th>TAX</th>\n",
       "      <th>PTRATIO</th>\n",
       "      <th>B</th>\n",
       "      <th>LSTAT</th>\n",
       "      <th>target</th>\n",
       "    </tr>\n",
       "  </thead>\n",
       "  <tbody>\n",
       "    <tr>\n",
       "      <th>0</th>\n",
       "      <td>0.00632</td>\n",
       "      <td>18.0</td>\n",
       "      <td>2.31</td>\n",
       "      <td>0.0</td>\n",
       "      <td>0.538</td>\n",
       "      <td>6.575</td>\n",
       "      <td>65.2</td>\n",
       "      <td>4.0900</td>\n",
       "      <td>1.0</td>\n",
       "      <td>296.0</td>\n",
       "      <td>15.3</td>\n",
       "      <td>396.90</td>\n",
       "      <td>4.98</td>\n",
       "      <td>24.0</td>\n",
       "    </tr>\n",
       "    <tr>\n",
       "      <th>1</th>\n",
       "      <td>0.02731</td>\n",
       "      <td>0.0</td>\n",
       "      <td>7.07</td>\n",
       "      <td>0.0</td>\n",
       "      <td>0.469</td>\n",
       "      <td>6.421</td>\n",
       "      <td>78.9</td>\n",
       "      <td>4.9671</td>\n",
       "      <td>2.0</td>\n",
       "      <td>242.0</td>\n",
       "      <td>17.8</td>\n",
       "      <td>396.90</td>\n",
       "      <td>9.14</td>\n",
       "      <td>21.6</td>\n",
       "    </tr>\n",
       "    <tr>\n",
       "      <th>2</th>\n",
       "      <td>0.02729</td>\n",
       "      <td>0.0</td>\n",
       "      <td>7.07</td>\n",
       "      <td>0.0</td>\n",
       "      <td>0.469</td>\n",
       "      <td>7.185</td>\n",
       "      <td>61.1</td>\n",
       "      <td>4.9671</td>\n",
       "      <td>2.0</td>\n",
       "      <td>242.0</td>\n",
       "      <td>17.8</td>\n",
       "      <td>392.83</td>\n",
       "      <td>4.03</td>\n",
       "      <td>34.7</td>\n",
       "    </tr>\n",
       "    <tr>\n",
       "      <th>3</th>\n",
       "      <td>0.03237</td>\n",
       "      <td>0.0</td>\n",
       "      <td>2.18</td>\n",
       "      <td>0.0</td>\n",
       "      <td>0.458</td>\n",
       "      <td>6.998</td>\n",
       "      <td>45.8</td>\n",
       "      <td>6.0622</td>\n",
       "      <td>3.0</td>\n",
       "      <td>222.0</td>\n",
       "      <td>18.7</td>\n",
       "      <td>394.63</td>\n",
       "      <td>2.94</td>\n",
       "      <td>33.4</td>\n",
       "    </tr>\n",
       "    <tr>\n",
       "      <th>4</th>\n",
       "      <td>0.06905</td>\n",
       "      <td>0.0</td>\n",
       "      <td>2.18</td>\n",
       "      <td>0.0</td>\n",
       "      <td>0.458</td>\n",
       "      <td>7.147</td>\n",
       "      <td>54.2</td>\n",
       "      <td>6.0622</td>\n",
       "      <td>3.0</td>\n",
       "      <td>222.0</td>\n",
       "      <td>18.7</td>\n",
       "      <td>396.90</td>\n",
       "      <td>5.33</td>\n",
       "      <td>36.2</td>\n",
       "    </tr>\n",
       "  </tbody>\n",
       "</table>\n",
       "</div>"
      ],
      "text/plain": [
       "      CRIM    ZN  INDUS  CHAS    NOX     RM   AGE     DIS  RAD    TAX  \\\n",
       "0  0.00632  18.0   2.31   0.0  0.538  6.575  65.2  4.0900  1.0  296.0   \n",
       "1  0.02731   0.0   7.07   0.0  0.469  6.421  78.9  4.9671  2.0  242.0   \n",
       "2  0.02729   0.0   7.07   0.0  0.469  7.185  61.1  4.9671  2.0  242.0   \n",
       "3  0.03237   0.0   2.18   0.0  0.458  6.998  45.8  6.0622  3.0  222.0   \n",
       "4  0.06905   0.0   2.18   0.0  0.458  7.147  54.2  6.0622  3.0  222.0   \n",
       "\n",
       "   PTRATIO       B  LSTAT  target  \n",
       "0     15.3  396.90   4.98    24.0  \n",
       "1     17.8  396.90   9.14    21.6  \n",
       "2     17.8  392.83   4.03    34.7  \n",
       "3     18.7  394.63   2.94    33.4  \n",
       "4     18.7  396.90   5.33    36.2  "
      ]
     },
     "execution_count": 4,
     "metadata": {},
     "output_type": "execute_result"
    }
   ],
   "source": [
    "# Iniciando a Análise Exploratória do DataFrame\n",
    "\n",
    "# Convertendo o Dataset em um DataFrame com Pandas\n",
    "df = pd.DataFrame(boston.data, columns=boston.feature_names) # Correção dos erros aqui\n",
    "df['target'] = boston.target\n",
    "df.head(5)"
   ]
  },
  {
   "cell_type": "code",
   "execution_count": 5,
   "id": "0d92747b",
   "metadata": {},
   "outputs": [
    {
     "data": {
      "text/plain": [
       "<seaborn.axisgrid.PairGrid at 0x1c000084e50>"
      ]
     },
     "execution_count": 5,
     "metadata": {},
     "output_type": "execute_result"
    },
    {
     "data": {
      "image/png": "[encoded data removed]",
      "text/plain": [
       "<Figure size 360x360 with 6 Axes>"
      ]
     },
     "metadata": {
      "needs_background": "light"
     },
     "output_type": "display_data"
    }
   ],
   "source": [
    "# Utilizando a visão gráfica da biblioteca seaborn\n",
    "\"\"\"\n",
    "Verificando quais viariáveis independentes (preditoras) apresentam visualmente correlação\n",
    "com a variável dependente do dataset (Target).\n",
    "É possível realizar uma visão geral de todo o dataframe, porém, para fins de visualização,\n",
    "mostramos apenas as variáveis que apresentam maior correlação.\n",
    "\"\"\"\n",
    "\n",
    "# Verificando uma boa correlação entre as variáveis RM que representa o número médio de quartos nas casas\n",
    "# e o valor da mediana da taxa de ocupação das casas em milhares de dólares\n",
    "\n",
    "sb.pairplot(df[['RM', 'target']])"
   ]
  },
  {
   "cell_type": "code",
   "execution_count": 6,
   "id": "56d2cc34",
   "metadata": {},
   "outputs": [
    {
     "data": {
      "text/plain": [
       "22.532806324110698"
      ]
     },
     "execution_count": 6,
     "metadata": {},
     "output_type": "execute_result"
    }
   ],
   "source": [
    "# Calculando a média da variável Target \n",
    "\"\"\"\n",
    "Teorema do Limite Central - A distribuição das médias de uma amostra \n",
    "tende a aproximar de uma distribuição normal mesmo que a amostra não apresente essa tendência\n",
    "\"\"\"\n",
    "\n",
    "mediaDaPrevisao = df['target'].mean()\n",
    "# Estimativa inicial para o valor previsto antes de criar o modelo de regressão.\n",
    "mediaDaPrevisao"
   ]
  },
  {
   "cell_type": "code",
   "execution_count": 7,
   "id": "ef92f119",
   "metadata": {},
   "outputs": [
    {
     "name": "stdout",
     "output_type": "stream",
     "text": [
      "Soma dos Quadrados dos Erros (SSE): 42716\n"
     ]
    }
   ],
   "source": [
    "# Simulando o cálculo do SSE (Soma dos Quadrados dos Erros) para avaliar a qualidade do modelo de regressão.\n",
    "# Criando uma série de dados chamada erroQuadrado que contém os erros ao quadrado entre o valor previsto (mediaDaPrevisao) \n",
    "# e o valor observado da variável target no conjunto de dados.\n",
    "# Calculando o erro ao quadrado para cada observação no conjunto de dados, subtraindo do valor observado da variável Target\n",
    "# pela média da variável target e elevando o resultado ao quadrado.\n",
    "\n",
    "erroQuadrado = pd.Series(mediaDaPrevisao - df['target'])**2\n",
    "\n",
    "# Somando todos os elementos da série erroQuadrado, obtendo assim a soma total dos erros ao quadrado. \n",
    "\n",
    "SSE = np.sum(erroQuadrado)\n",
    "\n",
    "# Quanto menor o valor do SSE, melhor é o ajuste do modelo de regressão aos dados, \n",
    "# o que indica que o modelo é capaz de explicar a variação da variável dependente (target) de forma mais precisa.\n",
    "\n",
    "print('Soma dos Quadrados dos Erros (SSE): %01.f' % SSE)"
   ]
  },
  {
   "cell_type": "code",
   "execution_count": 8,
   "id": "e59b2287",
   "metadata": {},
   "outputs": [
    {
     "data": {
      "image/png": "[encoded data removed]",
      "text/plain": [
       "<Figure size 432x288 with 1 Axes>"
      ]
     },
     "metadata": {
      "needs_background": "light"
     },
     "output_type": "display_data"
    }
   ],
   "source": [
    "# Visualizando a curva normal para os quadrados dos erros\n",
    "\n",
    "histPlot = erroQuadrado.plot(kind='hist')"
   ]
  },
  {
   "cell_type": "code",
   "execution_count": 9,
   "id": "94ea2378",
   "metadata": {},
   "outputs": [
    {
     "data": {
      "text/plain": [
       "0.7019225143345692"
      ]
     },
     "execution_count": 9,
     "metadata": {},
     "output_type": "execute_result"
    }
   ],
   "source": [
    "#Conforme visualizado nos gráficos do seaborn, para Regressão Linear Simples \n",
    "#usaremos como variável explanatória a variável RM que representa o número médio de quartos nas casas.\n",
    "\n",
    "# Imprimindo o desvio padrão via NumPy da variável RM\n",
    "\n",
    "np.std(df['RM'])"
   ]
  },
  {
   "cell_type": "code",
   "execution_count": 10,
   "id": "8a8fc3c3",
   "metadata": {},
   "outputs": [
    {
     "name": "stdout",
     "output_type": "stream",
     "text": [
      "Correlação a partir da função pearsonr: 0.69536\n"
     ]
    }
   ],
   "source": [
    "# Calculando o coeficiente de correlação de Pearson entre as variáveis preditoras (RM) e a variável dependente (Target)\n",
    "from scipy.stats.stats import pearsonr\n",
    "pearson_corr = pearsonr(df['RM'], df['target'])\n",
    "print('Correlação a partir da função pearsonr: %0.5f' % pearson_corr[0])"
   ]
  },
  {
   "cell_type": "code",
   "execution_count": 11,
   "id": "9293e017",
   "metadata": {},
   "outputs": [],
   "source": [
    "# Definindo os ranges x e y para visualização do gráfico de dispersão\n",
    "x_range = [df['RM'].min(), df['RM'].max()]\n",
    "y_range = [df['target'].min(), df['target'].max()]                            "
   ]
  },
  {
   "cell_type": "code",
   "execution_count": 12,
   "id": "4a575a80",
   "metadata": {},
   "outputs": [
    {
     "data": {
      "image/png": "[encoded data removed]",
      "text/plain": [
       "<Figure size 432x288 with 1 Axes>"
      ]
     },
     "metadata": {
      "needs_background": "light"
     },
     "output_type": "display_data"
    }
   ],
   "source": [
    "# Plotando dos valores de x e y com a média\n",
    "scatter_plot = df.plot(kind='scatter', x='RM', y='target', xlim=x_range, ylim=y_range)\n",
    "\n",
    "# Calculando a média para avaliar a adequação de um modelo de regressão linear.\n",
    "# Se a maioria dos pontos estiver acima ou abaixo da linha da média para uma variável, \n",
    "# isso indica que a relação entre essa variável e a outra é positiva ou negativa, respectivamente.\n",
    "mean_y = scatter_plot.plot(x_range, [df['target'].mean(), df['target'].mean()], '--', color='red', linewidth=1)\n",
    "mean_x = scatter_plot.plot([df['RM'].mean(), df['RM'].mean()], y_range, '--', color='red', linewidth=1)"
   ]
  },
  {
   "cell_type": "code",
   "execution_count": 13,
   "id": "2df527c5",
   "metadata": {},
   "outputs": [],
   "source": [
    "#Criando um modelo de Regressão com StatsModels\n",
    "#Inportando as Funções\n",
    "\n",
    "import statsmodels.api as sm"
   ]
  },
  {
   "cell_type": "code",
   "execution_count": 14,
   "id": "5434071c",
   "metadata": {},
   "outputs": [],
   "source": [
    "#Seleção de caracteristicas para o treinamento \n",
    "\n",
    "x = df['RM']\n",
    "y = df['target']"
   ]
  },
  {
   "cell_type": "code",
   "execution_count": 17,
   "id": "e23abee2",
   "metadata": {},
   "outputs": [
    {
     "data": {
      "text/html": [
       "<div>\n",
       "<style scoped>\n",
       "    .dataframe tbody tr th:only-of-type {\n",
       "        vertical-align: middle;\n",
       "    }\n",
       "\n",
       "    .dataframe tbody tr th {\n",
       "        vertical-align: top;\n",
       "    }\n",
       "\n",
       "    .dataframe thead th {\n",
       "        text-align: right;\n",
       "    }\n",
       "</style>\n",
       "<table border=\"1\" class=\"dataframe\">\n",
       "  <thead>\n",
       "    <tr style=\"text-align: right;\">\n",
       "      <th></th>\n",
       "      <th>const</th>\n",
       "      <th>RM</th>\n",
       "    </tr>\n",
       "  </thead>\n",
       "  <tbody>\n",
       "    <tr>\n",
       "      <th>0</th>\n",
       "      <td>1.0</td>\n",
       "      <td>6.575</td>\n",
       "    </tr>\n",
       "    <tr>\n",
       "      <th>1</th>\n",
       "      <td>1.0</td>\n",
       "      <td>6.421</td>\n",
       "    </tr>\n",
       "    <tr>\n",
       "      <th>2</th>\n",
       "      <td>1.0</td>\n",
       "      <td>7.185</td>\n",
       "    </tr>\n",
       "    <tr>\n",
       "      <th>3</th>\n",
       "      <td>1.0</td>\n",
       "      <td>6.998</td>\n",
       "    </tr>\n",
       "    <tr>\n",
       "      <th>4</th>\n",
       "      <td>1.0</td>\n",
       "      <td>7.147</td>\n",
       "    </tr>\n",
       "  </tbody>\n",
       "</table>\n",
       "</div>"
      ],
      "text/plain": [
       "   const     RM\n",
       "0    1.0  6.575\n",
       "1    1.0  6.421\n",
       "2    1.0  7.185\n",
       "3    1.0  6.998\n",
       "4    1.0  7.147"
      ]
     },
     "execution_count": 17,
     "metadata": {},
     "output_type": "execute_result"
    }
   ],
   "source": [
    "#Usando o comando sm.add_constant() do Statsmodels do Python que adiciona uma coluna de 1s ao conjunto de dados X. \n",
    "#Essa coluna é usada para representar a constante (ou intercepto) em um modelo de regressão linear, \n",
    "#ou seja, a estimativa do valor da variável de resposta quando todas as variáveis explicativas são iguais a zero.\n",
    "\n",
    "x = sm.add_constant(x)\n",
    "x.head(5)"
   ]
  },
  {
   "cell_type": "code",
   "execution_count": 24,
   "id": "4f8b9432",
   "metadata": {},
   "outputs": [
    {
     "name": "stdout",
     "output_type": "stream",
     "text": [
      "                            OLS Regression Results                            \n",
      "==============================================================================\n",
      "Dep. Variable:                 target   R-squared:                       0.484\n",
      "Model:                            OLS   Adj. R-squared:                  0.483\n",
      "Method:                 Least Squares   F-statistic:                     471.8\n",
      "Date:                Wed, 22 Mar 2023   Prob (F-statistic):           2.49e-74\n",
      "Time:                        10:35:53   Log-Likelihood:                -1673.1\n",
      "No. Observations:                 506   AIC:                             3350.\n",
      "Df Residuals:                     504   BIC:                             3359.\n",
      "Df Model:                           1                                         \n",
      "Covariance Type:            nonrobust                                         \n",
      "==============================================================================\n",
      "                 coef    std err          t      P>|t|      [0.025      0.975]\n",
      "------------------------------------------------------------------------------\n",
      "const        -34.6706      2.650    -13.084      0.000     -39.877     -29.465\n",
      "RM             9.1021      0.419     21.722      0.000       8.279       9.925\n",
      "==============================================================================\n",
      "Omnibus:                      102.585   Durbin-Watson:                   0.684\n",
      "Prob(Omnibus):                  0.000   Jarque-Bera (JB):              612.449\n",
      "Skew:                           0.726   Prob(JB):                    1.02e-133\n",
      "Kurtosis:                       8.190   Cond. No.                         58.4\n",
      "==============================================================================\n",
      "\n",
      "Notes:\n",
      "[1] Standard Errors assume that the covariance matrix of the errors is correctly specified.\n",
      "const   -34.670621\n",
      "RM        9.102109\n",
      "dtype: float64\n"
     ]
    }
   ],
   "source": [
    "#Criando o modelo de Regressão \n",
    "#O comando sm.OLS(y, X) da biblioteca Statsmodels do Python\n",
    "#cria um modelo de regressão linear utilizando Ordinary Least Squares (OLS), \n",
    "#ou seja, Mínimos Quadrados Ordinários, como método de estimação.\n",
    "\n",
    "modelo = sm.OLS(y, x)\n",
    "\n",
    "#Treinando o Modelo\n",
    "#O comando modelo.fit() da biblioteca Statsmodels do Python ajusta o modelo de regressão linear criado anteriormente \n",
    "#e retorna um objeto que contém os resultados da regressão.\n",
    "#Esse objeto, geralmente armazenado em uma variável, contém informações sobre o ajuste do modelo aos dados, \n",
    "#como os coeficientes das variáveis independentes, o valor do intercepto, o erro padrão, \n",
    "#a estatística t, o p-valor, o R-quadrado e outras estatísticas relevantes.\n",
    "\n",
    "modeloV1 = modelo.fit()\n",
    "print (modeloV1.summary())\n",
    "print (modeloV1.params)"
   ]
  },
  {
   "cell_type": "code",
   "execution_count": 27,
   "id": "997c4e71",
   "metadata": {},
   "outputs": [
    {
     "data": {
      "text/plain": [
       "0      25.175746\n",
       "1      23.774021\n",
       "2      30.728032\n",
       "3      29.025938\n",
       "4      30.382152\n",
       "         ...    \n",
       "501    25.339584\n",
       "502    21.034286\n",
       "503    28.825691\n",
       "504    27.169108\n",
       "505    20.215096\n",
       "Length: 506, dtype: float64"
      ]
     },
     "execution_count": 27,
     "metadata": {},
     "output_type": "execute_result"
    }
   ],
   "source": [
    "#Verificando as previsões a partir do modelo ajustado \n",
    "\n",
    "previsoes = modeloV1.predict(x)\n",
    "previsoes"
   ]
  },
  {
   "cell_type": "code",
   "execution_count": 34,
   "id": "1112de89",
   "metadata": {},
   "outputs": [
    {
     "name": "stdout",
     "output_type": "stream",
     "text": [
      "Se RM = 5 nosso modelo prevê que a mediana da taxa de ocupação é 10.8\n"
     ]
    }
   ],
   "source": [
    "#Realizando novas previsões com o modelo a partir de um chute \n",
    "\n",
    "RMp = 5\n",
    "Targetp = np.array([1,RMp])\n",
    "\n",
    "print (\"Se RM = %01.f nosso modelo prevê que a mediana da taxa de ocupação é %0.1f\" % (RMp,modeloV1.predict(Targetp)))"
   ]
  },
  {
   "cell_type": "code",
   "execution_count": 35,
   "id": "2c3f18ce",
   "metadata": {},
   "outputs": [],
   "source": [
    "#Gerando um ScatterPlot com a Linha de Regressão\n",
    "\n",
    "# Definindo os ranges x e y para visualização do gráfico de dispersão\n",
    "x_range = [df['RM'].min(), df['RM'].max()]\n",
    "y_range = [df['target'].min(), df['target'].max()]   "
   ]
  },
  {
   "cell_type": "code",
   "execution_count": 37,
   "id": "0fba5ba3",
   "metadata": {},
   "outputs": [
    {
     "data": {
      "image/png": "[encoded data removed]",
      "text/plain": [
       "<Figure size 432x288 with 1 Axes>"
      ]
     },
     "metadata": {
      "needs_background": "light"
     },
     "output_type": "display_data"
    }
   ],
   "source": [
    "# Plotando dos valores de x e y com a média\n",
    "# Primeira camada do Scatter Plot\n",
    "scatter_plot = df.plot(kind='scatter', x='RM', y='target', xlim=x_range, ylim=y_range)\n",
    "\n",
    "# Segunda camada do Scatter Plot (médias)\n",
    "# Calculando a média para avaliar a adequação de um modelo de regressão linear.\n",
    "# Se a maioria dos pontos estiver acima ou abaixo da linha da média para uma variável, \n",
    "# isso indica que a relação entre essa variável e a outra é positiva ou negativa, respectivamente.\n",
    "mean_y = scatter_plot.plot(x_range, [df['target'].mean(), df['target'].mean()], '--', color='red', linewidth=1)\n",
    "mean_x = scatter_plot.plot([df['RM'].mean(), df['RM'].mean()], y_range, '--', color='red', linewidth=1)\n",
    "\n",
    "# Terceira camada do Scatter Plot (linha de regressão)\n",
    "regressionLine = scatter_plot.plot(df['RM'], previsoes, '-', color = 'orange', linewidth = 2)"
   ]
  },
  {
   "cell_type": "code",
   "execution_count": 40,
   "id": "f009d7a0",
   "metadata": {},
   "outputs": [],
   "source": [
    "# Gerando os resíduos\n",
    "\n",
    "from sklearn.preprocessing import scale\n",
    "residuos = df['target'] - previsoes\n",
    "residuosNormalizados = scale(residuos)"
   ]
  },
  {
   "cell_type": "code",
   "execution_count": 42,
   "id": "912cb801",
   "metadata": {},
   "outputs": [
    {
     "data": {
      "image/png": "[encoded data removed]",
      "text/plain": [
       "<Figure size 432x288 with 1 Axes>"
      ]
     },
     "metadata": {
      "needs_background": "light"
     },
     "output_type": "display_data"
    }
   ],
   "source": [
    "# ScatterPlot dos resíduos\n",
    "residual_scatter_plot = plt.plot(df['RM'], residuosNormalizados,'bp')\n",
    "plt.xlabel('RM') \n",
    "plt.ylabel('Resíduos Normalizados') \n",
    "mean_residual = plt.plot([int(x_range[0]),round(x_range[1],0)], [0,0], '-', color = 'red', linewidth = 3)\n",
    "upper_bound = plt.plot([int(x_range[0]),round(x_range[1],0)], [3,3], '--', color = 'red', linewidth = 2)\n",
    "lower_bound = plt.plot([int(x_range[0]),round(x_range[1],0)], [-3,-3], '--', color = 'red', linewidth = 2)\n",
    "plt.grid()"
   ]
  },
  {
   "cell_type": "code",
   "execution_count": 46,
   "id": "60bac66a",
   "metadata": {},
   "outputs": [],
   "source": [
    "#Criando um Modelo de Regressão com Scikit-Learn\n",
    "#Inportando as Funções\n",
    "\n",
    "from sklearn import linear_model"
   ]
  },
  {
   "cell_type": "code",
   "execution_count": 48,
   "id": "a669a5d1",
   "metadata": {},
   "outputs": [],
   "source": [
    "#Criando um objeto\n",
    "\n",
    "#O parâmetro normalize define se as variáveis independentes devem ser normalizadas antes do ajuste do modelo. \n",
    "#Se normalize=True, as variáveis independentes serão escaladas para terem média zero e variância unitária \n",
    "#antes do ajuste do modelo. Isso pode ser útil quando as variáveis independentes têm escalas muito diferentes \n",
    "#e/ou desvios padrão muito grandes (alta dispersão na amostra).\n",
    "\n",
    "#O parâmetro fit_intercept define se deve ser ajustado um intercepto (β0) para o modelo. \n",
    "#Se fit_intercept=True, o modelo terá um intercepto, caso contrário, o modelo será ajustado sem intercepto.\n",
    "\n",
    "modeloV2 = linear_model.LinearRegression (normalize = False, fit_intercept = True)"
   ]
  },
  {
   "cell_type": "code",
   "execution_count": 54,
   "id": "8c4421d6",
   "metadata": {},
   "outputs": [],
   "source": [
    "# Define os valores de x (preditores) e y (dependentes)\n",
    "#Quando usamos o Scikit-learn para realizar regressão, \n",
    "#é necessário formatar os dados de entrada (preditores ou variáveis independentes) em uma matriz, \n",
    "#mesmo que tenhamos apenas um único preditor. \n",
    "#Isso ocorre porque o Scikit-learn espera que os dados de entrada estejam no formato de matriz \n",
    "#para poder aplicar seus métodos e modelos de forma adequada.\n",
    "\n",
    "observacoes = len(df)\n",
    "\n",
    "# X deve sempre ser uma matriz e nunca um vetor: estamos transformando o vetor 'RM' em uma matriz bidimensional \n",
    "#com uma coluna e um número de linhas igual ao número de observações.\n",
    "\n",
    "X = df['RM'].values.reshape((observacoes, 1))\n",
    "\n",
    "# y pode ser um vetor: Não precisa ser transformado em uma matriz. Portanto, ela pode ser deixada no formato de vetor mesmo.\n",
    "\n",
    "y = df['target'].values "
   ]
  },
  {
   "cell_type": "code",
   "execution_count": 56,
   "id": "28828b72",
   "metadata": {},
   "outputs": [
    {
     "data": {
      "text/plain": [
       "numpy.ndarray"
      ]
     },
     "execution_count": 56,
     "metadata": {},
     "output_type": "execute_result"
    }
   ],
   "source": [
    "#Verificando os valores\n",
    "\n",
    "type(X)"
   ]
  },
  {
   "cell_type": "code",
   "execution_count": 60,
   "id": "dd9fde1a",
   "metadata": {},
   "outputs": [
    {
     "data": {
      "text/plain": [
       "2"
      ]
     },
     "execution_count": 60,
     "metadata": {},
     "output_type": "execute_result"
    }
   ],
   "source": [
    "np.ndim(X)"
   ]
  },
  {
   "cell_type": "code",
   "execution_count": 61,
   "id": "1bc1bc88",
   "metadata": {},
   "outputs": [
    {
     "name": "stdout",
     "output_type": "stream",
     "text": [
      "[[6.575]\n",
      " [6.421]\n",
      " [7.185]\n",
      " [6.998]\n",
      " [7.147]\n",
      " [6.43 ]\n",
      " [6.012]\n",
      " [6.172]\n",
      " [5.631]\n",
      " [6.004]\n",
      " [6.377]\n",
      " [6.009]\n",
      " [5.889]\n",
      " [5.949]\n",
      " [6.096]\n",
      " [5.834]\n",
      " [5.935]\n",
      " [5.99 ]\n",
      " [5.456]\n",
      " [5.727]\n",
      " [5.57 ]\n",
      " [5.965]\n",
      " [6.142]\n",
      " [5.813]\n",
      " [5.924]\n",
      " [5.599]\n",
      " [5.813]\n",
      " [6.047]\n",
      " [6.495]\n",
      " [6.674]\n",
      " [5.713]\n",
      " [6.072]\n",
      " [5.95 ]\n",
      " [5.701]\n",
      " [6.096]\n",
      " [5.933]\n",
      " [5.841]\n",
      " [5.85 ]\n",
      " [5.966]\n",
      " [6.595]\n",
      " [7.024]\n",
      " [6.77 ]\n",
      " [6.169]\n",
      " [6.211]\n",
      " [6.069]\n",
      " [5.682]\n",
      " [5.786]\n",
      " [6.03 ]\n",
      " [5.399]\n",
      " [5.602]\n",
      " [5.963]\n",
      " [6.115]\n",
      " [6.511]\n",
      " [5.998]\n",
      " [5.888]\n",
      " [7.249]\n",
      " [6.383]\n",
      " [6.816]\n",
      " [6.145]\n",
      " [5.927]\n",
      " [5.741]\n",
      " [5.966]\n",
      " [6.456]\n",
      " [6.762]\n",
      " [7.104]\n",
      " [6.29 ]\n",
      " [5.787]\n",
      " [5.878]\n",
      " [5.594]\n",
      " [5.885]\n",
      " [6.417]\n",
      " [5.961]\n",
      " [6.065]\n",
      " [6.245]\n",
      " [6.273]\n",
      " [6.286]\n",
      " [6.279]\n",
      " [6.14 ]\n",
      " [6.232]\n",
      " [5.874]\n",
      " [6.727]\n",
      " [6.619]\n",
      " [6.302]\n",
      " [6.167]\n",
      " [6.389]\n",
      " [6.63 ]\n",
      " [6.015]\n",
      " [6.121]\n",
      " [7.007]\n",
      " [7.079]\n",
      " [6.417]\n",
      " [6.405]\n",
      " [6.442]\n",
      " [6.211]\n",
      " [6.249]\n",
      " [6.625]\n",
      " [6.163]\n",
      " [8.069]\n",
      " [7.82 ]\n",
      " [7.416]\n",
      " [6.727]\n",
      " [6.781]\n",
      " [6.405]\n",
      " [6.137]\n",
      " [6.167]\n",
      " [5.851]\n",
      " [5.836]\n",
      " [6.127]\n",
      " [6.474]\n",
      " [6.229]\n",
      " [6.195]\n",
      " [6.715]\n",
      " [5.913]\n",
      " [6.092]\n",
      " [6.254]\n",
      " [5.928]\n",
      " [6.176]\n",
      " [6.021]\n",
      " [5.872]\n",
      " [5.731]\n",
      " [5.87 ]\n",
      " [6.004]\n",
      " [5.961]\n",
      " [5.856]\n",
      " [5.879]\n",
      " [5.986]\n",
      " [5.613]\n",
      " [5.693]\n",
      " [6.431]\n",
      " [5.637]\n",
      " [6.458]\n",
      " [6.326]\n",
      " [6.372]\n",
      " [5.822]\n",
      " [5.757]\n",
      " [6.335]\n",
      " [5.942]\n",
      " [6.454]\n",
      " [5.857]\n",
      " [6.151]\n",
      " [6.174]\n",
      " [5.019]\n",
      " [5.403]\n",
      " [5.468]\n",
      " [4.903]\n",
      " [6.13 ]\n",
      " [5.628]\n",
      " [4.926]\n",
      " [5.186]\n",
      " [5.597]\n",
      " [6.122]\n",
      " [5.404]\n",
      " [5.012]\n",
      " [5.709]\n",
      " [6.129]\n",
      " [6.152]\n",
      " [5.272]\n",
      " [6.943]\n",
      " [6.066]\n",
      " [6.51 ]\n",
      " [6.25 ]\n",
      " [7.489]\n",
      " [7.802]\n",
      " [8.375]\n",
      " [5.854]\n",
      " [6.101]\n",
      " [7.929]\n",
      " [5.877]\n",
      " [6.319]\n",
      " [6.402]\n",
      " [5.875]\n",
      " [5.88 ]\n",
      " [5.572]\n",
      " [6.416]\n",
      " [5.859]\n",
      " [6.546]\n",
      " [6.02 ]\n",
      " [6.315]\n",
      " [6.86 ]\n",
      " [6.98 ]\n",
      " [7.765]\n",
      " [6.144]\n",
      " [7.155]\n",
      " [6.563]\n",
      " [5.604]\n",
      " [6.153]\n",
      " [7.831]\n",
      " [6.782]\n",
      " [6.556]\n",
      " [7.185]\n",
      " [6.951]\n",
      " [6.739]\n",
      " [7.178]\n",
      " [6.8  ]\n",
      " [6.604]\n",
      " [7.875]\n",
      " [7.287]\n",
      " [7.107]\n",
      " [7.274]\n",
      " [6.975]\n",
      " [7.135]\n",
      " [6.162]\n",
      " [7.61 ]\n",
      " [7.853]\n",
      " [8.034]\n",
      " [5.891]\n",
      " [6.326]\n",
      " [5.783]\n",
      " [6.064]\n",
      " [5.344]\n",
      " [5.96 ]\n",
      " [5.404]\n",
      " [5.807]\n",
      " [6.375]\n",
      " [5.412]\n",
      " [6.182]\n",
      " [5.888]\n",
      " [6.642]\n",
      " [5.951]\n",
      " [6.373]\n",
      " [6.951]\n",
      " [6.164]\n",
      " [6.879]\n",
      " [6.618]\n",
      " [8.266]\n",
      " [8.725]\n",
      " [8.04 ]\n",
      " [7.163]\n",
      " [7.686]\n",
      " [6.552]\n",
      " [5.981]\n",
      " [7.412]\n",
      " [8.337]\n",
      " [8.247]\n",
      " [6.726]\n",
      " [6.086]\n",
      " [6.631]\n",
      " [7.358]\n",
      " [6.481]\n",
      " [6.606]\n",
      " [6.897]\n",
      " [6.095]\n",
      " [6.358]\n",
      " [6.393]\n",
      " [5.593]\n",
      " [5.605]\n",
      " [6.108]\n",
      " [6.226]\n",
      " [6.433]\n",
      " [6.718]\n",
      " [6.487]\n",
      " [6.438]\n",
      " [6.957]\n",
      " [8.259]\n",
      " [6.108]\n",
      " [5.876]\n",
      " [7.454]\n",
      " [8.704]\n",
      " [7.333]\n",
      " [6.842]\n",
      " [7.203]\n",
      " [7.52 ]\n",
      " [8.398]\n",
      " [7.327]\n",
      " [7.206]\n",
      " [5.56 ]\n",
      " [7.014]\n",
      " [8.297]\n",
      " [7.47 ]\n",
      " [5.92 ]\n",
      " [5.856]\n",
      " [6.24 ]\n",
      " [6.538]\n",
      " [7.691]\n",
      " [6.758]\n",
      " [6.854]\n",
      " [7.267]\n",
      " [6.826]\n",
      " [6.482]\n",
      " [6.812]\n",
      " [7.82 ]\n",
      " [6.968]\n",
      " [7.645]\n",
      " [7.923]\n",
      " [7.088]\n",
      " [6.453]\n",
      " [6.23 ]\n",
      " [6.209]\n",
      " [6.315]\n",
      " [6.565]\n",
      " [6.861]\n",
      " [7.148]\n",
      " [6.63 ]\n",
      " [6.127]\n",
      " [6.009]\n",
      " [6.678]\n",
      " [6.549]\n",
      " [5.79 ]\n",
      " [6.345]\n",
      " [7.041]\n",
      " [6.871]\n",
      " [6.59 ]\n",
      " [6.495]\n",
      " [6.982]\n",
      " [7.236]\n",
      " [6.616]\n",
      " [7.42 ]\n",
      " [6.849]\n",
      " [6.635]\n",
      " [5.972]\n",
      " [4.973]\n",
      " [6.122]\n",
      " [6.023]\n",
      " [6.266]\n",
      " [6.567]\n",
      " [5.705]\n",
      " [5.914]\n",
      " [5.782]\n",
      " [6.382]\n",
      " [6.113]\n",
      " [6.426]\n",
      " [6.376]\n",
      " [6.041]\n",
      " [5.708]\n",
      " [6.415]\n",
      " [6.431]\n",
      " [6.312]\n",
      " [6.083]\n",
      " [5.868]\n",
      " [6.333]\n",
      " [6.144]\n",
      " [5.706]\n",
      " [6.031]\n",
      " [6.316]\n",
      " [6.31 ]\n",
      " [6.037]\n",
      " [5.869]\n",
      " [5.895]\n",
      " [6.059]\n",
      " [5.985]\n",
      " [5.968]\n",
      " [7.241]\n",
      " [6.54 ]\n",
      " [6.696]\n",
      " [6.874]\n",
      " [6.014]\n",
      " [5.898]\n",
      " [6.516]\n",
      " [6.635]\n",
      " [6.939]\n",
      " [6.49 ]\n",
      " [6.579]\n",
      " [5.884]\n",
      " [6.728]\n",
      " [5.663]\n",
      " [5.936]\n",
      " [6.212]\n",
      " [6.395]\n",
      " [6.127]\n",
      " [6.112]\n",
      " [6.398]\n",
      " [6.251]\n",
      " [5.362]\n",
      " [5.803]\n",
      " [8.78 ]\n",
      " [3.561]\n",
      " [4.963]\n",
      " [3.863]\n",
      " [4.97 ]\n",
      " [6.683]\n",
      " [7.016]\n",
      " [6.216]\n",
      " [5.875]\n",
      " [4.906]\n",
      " [4.138]\n",
      " [7.313]\n",
      " [6.649]\n",
      " [6.794]\n",
      " [6.38 ]\n",
      " [6.223]\n",
      " [6.968]\n",
      " [6.545]\n",
      " [5.536]\n",
      " [5.52 ]\n",
      " [4.368]\n",
      " [5.277]\n",
      " [4.652]\n",
      " [5.   ]\n",
      " [4.88 ]\n",
      " [5.39 ]\n",
      " [5.713]\n",
      " [6.051]\n",
      " [5.036]\n",
      " [6.193]\n",
      " [5.887]\n",
      " [6.471]\n",
      " [6.405]\n",
      " [5.747]\n",
      " [5.453]\n",
      " [5.852]\n",
      " [5.987]\n",
      " [6.343]\n",
      " [6.404]\n",
      " [5.349]\n",
      " [5.531]\n",
      " [5.683]\n",
      " [4.138]\n",
      " [5.608]\n",
      " [5.617]\n",
      " [6.852]\n",
      " [5.757]\n",
      " [6.657]\n",
      " [4.628]\n",
      " [5.155]\n",
      " [4.519]\n",
      " [6.434]\n",
      " [6.782]\n",
      " [5.304]\n",
      " [5.957]\n",
      " [6.824]\n",
      " [6.411]\n",
      " [6.006]\n",
      " [5.648]\n",
      " [6.103]\n",
      " [5.565]\n",
      " [5.896]\n",
      " [5.837]\n",
      " [6.202]\n",
      " [6.193]\n",
      " [6.38 ]\n",
      " [6.348]\n",
      " [6.833]\n",
      " [6.425]\n",
      " [6.436]\n",
      " [6.208]\n",
      " [6.629]\n",
      " [6.461]\n",
      " [6.152]\n",
      " [5.935]\n",
      " [5.627]\n",
      " [5.818]\n",
      " [6.406]\n",
      " [6.219]\n",
      " [6.485]\n",
      " [5.854]\n",
      " [6.459]\n",
      " [6.341]\n",
      " [6.251]\n",
      " [6.185]\n",
      " [6.417]\n",
      " [6.749]\n",
      " [6.655]\n",
      " [6.297]\n",
      " [7.393]\n",
      " [6.728]\n",
      " [6.525]\n",
      " [5.976]\n",
      " [5.936]\n",
      " [6.301]\n",
      " [6.081]\n",
      " [6.701]\n",
      " [6.376]\n",
      " [6.317]\n",
      " [6.513]\n",
      " [6.209]\n",
      " [5.759]\n",
      " [5.952]\n",
      " [6.003]\n",
      " [5.926]\n",
      " [5.713]\n",
      " [6.167]\n",
      " [6.229]\n",
      " [6.437]\n",
      " [6.98 ]\n",
      " [5.427]\n",
      " [6.162]\n",
      " [6.484]\n",
      " [5.304]\n",
      " [6.185]\n",
      " [6.229]\n",
      " [6.242]\n",
      " [6.75 ]\n",
      " [7.061]\n",
      " [5.762]\n",
      " [5.871]\n",
      " [6.312]\n",
      " [6.114]\n",
      " [5.905]\n",
      " [5.454]\n",
      " [5.414]\n",
      " [5.093]\n",
      " [5.983]\n",
      " [5.983]\n",
      " [5.707]\n",
      " [5.926]\n",
      " [5.67 ]\n",
      " [5.39 ]\n",
      " [5.794]\n",
      " [6.019]\n",
      " [5.569]\n",
      " [6.027]\n",
      " [6.593]\n",
      " [6.12 ]\n",
      " [6.976]\n",
      " [6.794]\n",
      " [6.03 ]]\n"
     ]
    }
   ],
   "source": [
    "print (X)"
   ]
  },
  {
   "cell_type": "code",
   "execution_count": 62,
   "id": "32a0b1cd",
   "metadata": {},
   "outputs": [
    {
     "data": {
      "text/plain": [
       "numpy.ndarray"
      ]
     },
     "execution_count": 62,
     "metadata": {},
     "output_type": "execute_result"
    }
   ],
   "source": [
    "type(y)"
   ]
  },
  {
   "cell_type": "code",
   "execution_count": 63,
   "id": "b62d97bc",
   "metadata": {},
   "outputs": [
    {
     "data": {
      "text/plain": [
       "1"
      ]
     },
     "execution_count": 63,
     "metadata": {},
     "output_type": "execute_result"
    }
   ],
   "source": [
    "np.ndim(y)"
   ]
  },
  {
   "cell_type": "code",
   "execution_count": 64,
   "id": "f87e104e",
   "metadata": {},
   "outputs": [
    {
     "name": "stdout",
     "output_type": "stream",
     "text": [
      "[24.  21.6 34.7 33.4 36.2 28.7 22.9 27.1 16.5 18.9 15.  18.9 21.7 20.4\n",
      " 18.2 19.9 23.1 17.5 20.2 18.2 13.6 19.6 15.2 14.5 15.6 13.9 16.6 14.8\n",
      " 18.4 21.  12.7 14.5 13.2 13.1 13.5 18.9 20.  21.  24.7 30.8 34.9 26.6\n",
      " 25.3 24.7 21.2 19.3 20.  16.6 14.4 19.4 19.7 20.5 25.  23.4 18.9 35.4\n",
      " 24.7 31.6 23.3 19.6 18.7 16.  22.2 25.  33.  23.5 19.4 22.  17.4 20.9\n",
      " 24.2 21.7 22.8 23.4 24.1 21.4 20.  20.8 21.2 20.3 28.  23.9 24.8 22.9\n",
      " 23.9 26.6 22.5 22.2 23.6 28.7 22.6 22.  22.9 25.  20.6 28.4 21.4 38.7\n",
      " 43.8 33.2 27.5 26.5 18.6 19.3 20.1 19.5 19.5 20.4 19.8 19.4 21.7 22.8\n",
      " 18.8 18.7 18.5 18.3 21.2 19.2 20.4 19.3 22.  20.3 20.5 17.3 18.8 21.4\n",
      " 15.7 16.2 18.  14.3 19.2 19.6 23.  18.4 15.6 18.1 17.4 17.1 13.3 17.8\n",
      " 14.  14.4 13.4 15.6 11.8 13.8 15.6 14.6 17.8 15.4 21.5 19.6 15.3 19.4\n",
      " 17.  15.6 13.1 41.3 24.3 23.3 27.  50.  50.  50.  22.7 25.  50.  23.8\n",
      " 23.8 22.3 17.4 19.1 23.1 23.6 22.6 29.4 23.2 24.6 29.9 37.2 39.8 36.2\n",
      " 37.9 32.5 26.4 29.6 50.  32.  29.8 34.9 37.  30.5 36.4 31.1 29.1 50.\n",
      " 33.3 30.3 34.6 34.9 32.9 24.1 42.3 48.5 50.  22.6 24.4 22.5 24.4 20.\n",
      " 21.7 19.3 22.4 28.1 23.7 25.  23.3 28.7 21.5 23.  26.7 21.7 27.5 30.1\n",
      " 44.8 50.  37.6 31.6 46.7 31.5 24.3 31.7 41.7 48.3 29.  24.  25.1 31.5\n",
      " 23.7 23.3 22.  20.1 22.2 23.7 17.6 18.5 24.3 20.5 24.5 26.2 24.4 24.8\n",
      " 29.6 42.8 21.9 20.9 44.  50.  36.  30.1 33.8 43.1 48.8 31.  36.5 22.8\n",
      " 30.7 50.  43.5 20.7 21.1 25.2 24.4 35.2 32.4 32.  33.2 33.1 29.1 35.1\n",
      " 45.4 35.4 46.  50.  32.2 22.  20.1 23.2 22.3 24.8 28.5 37.3 27.9 23.9\n",
      " 21.7 28.6 27.1 20.3 22.5 29.  24.8 22.  26.4 33.1 36.1 28.4 33.4 28.2\n",
      " 22.8 20.3 16.1 22.1 19.4 21.6 23.8 16.2 17.8 19.8 23.1 21.  23.8 23.1\n",
      " 20.4 18.5 25.  24.6 23.  22.2 19.3 22.6 19.8 17.1 19.4 22.2 20.7 21.1\n",
      " 19.5 18.5 20.6 19.  18.7 32.7 16.5 23.9 31.2 17.5 17.2 23.1 24.5 26.6\n",
      " 22.9 24.1 18.6 30.1 18.2 20.6 17.8 21.7 22.7 22.6 25.  19.9 20.8 16.8\n",
      " 21.9 27.5 21.9 23.1 50.  50.  50.  50.  50.  13.8 13.8 15.  13.9 13.3\n",
      " 13.1 10.2 10.4 10.9 11.3 12.3  8.8  7.2 10.5  7.4 10.2 11.5 15.1 23.2\n",
      "  9.7 13.8 12.7 13.1 12.5  8.5  5.   6.3  5.6  7.2 12.1  8.3  8.5  5.\n",
      " 11.9 27.9 17.2 27.5 15.  17.2 17.9 16.3  7.   7.2  7.5 10.4  8.8  8.4\n",
      " 16.7 14.2 20.8 13.4 11.7  8.3 10.2 10.9 11.   9.5 14.5 14.1 16.1 14.3\n",
      " 11.7 13.4  9.6  8.7  8.4 12.8 10.5 17.1 18.4 15.4 10.8 11.8 14.9 12.6\n",
      " 14.1 13.  13.4 15.2 16.1 17.8 14.9 14.1 12.7 13.5 14.9 20.  16.4 17.7\n",
      " 19.5 20.2 21.4 19.9 19.  19.1 19.1 20.1 19.9 19.6 23.2 29.8 13.8 13.3\n",
      " 16.7 12.  14.6 21.4 23.  23.7 25.  21.8 20.6 21.2 19.1 20.6 15.2  7.\n",
      "  8.1 13.6 20.1 21.8 24.5 23.1 19.7 18.3 21.2 17.5 16.8 22.4 20.6 23.9\n",
      " 22.  11.9]\n"
     ]
    }
   ],
   "source": [
    "print(y)"
   ]
  },
  {
   "cell_type": "code",
   "execution_count": 66,
   "id": "ee91ff1c",
   "metadata": {},
   "outputs": [
    {
     "data": {
      "text/plain": [
       "LinearRegression()"
      ]
     },
     "execution_count": 66,
     "metadata": {},
     "output_type": "execute_result"
    }
   ],
   "source": [
    "#Treinamento do modelo de regressão linear \n",
    "#utilizando o método dos mínimos quadrados (OLS) sobre os dados de entrada X e saída y\n",
    "\n",
    "modeloV2.fit(X,y)"
   ]
  },
  {
   "cell_type": "code",
   "execution_count": 67,
   "id": "d1db46e9",
   "metadata": {},
   "outputs": [
    {
     "name": "stdout",
     "output_type": "stream",
     "text": [
      "[9.10210898]\n",
      "-34.67062077643857\n"
     ]
    }
   ],
   "source": [
    "print(modeloV2.coef_)\n",
    "print(modeloV2.intercept_)"
   ]
  },
  {
   "cell_type": "code",
   "execution_count": 68,
   "id": "57566735",
   "metadata": {},
   "outputs": [
    {
     "name": "stdout",
     "output_type": "stream",
     "text": [
      "[25.17574577 23.77402099 30.72803225 29.02593787 30.38215211 23.85593997\n",
      " 20.05125842 21.50759586 16.5833549  19.97844155 23.3735282  20.02395209\n",
      " 18.93169901 19.47782555 20.81583557 18.43108302 19.35039603 19.85101202\n",
      " 14.99048582 17.45715736 16.02812625 19.6234593  21.23453259 18.23993873\n",
      " 19.25027283 16.29208741 18.23993873 20.36983223 24.44757706 26.07685456\n",
      " 17.32972783 20.59738496 19.48692766 17.22050253 20.81583557 19.33219181\n",
      " 18.49479778 18.57671676 19.63256141 25.35778795 29.26259271 26.95065703\n",
      " 21.48028953 21.86257811 20.57007863 17.04756245 17.99418179 20.21509638\n",
      " 14.47166561 16.31939374 19.60525508 20.98877564 24.5932108  19.92382889\n",
      " 18.9225969  31.31056723 23.42814085 27.36935404 21.26183891 19.27757916\n",
      " 17.58458688 19.63256141 24.09259481 26.87784015 29.99076143 22.58164472\n",
      " 18.0032839  18.83157581 16.24657686 18.89529058 23.73761256 19.58705086\n",
      " 20.53367019 22.17204981 22.42690886 22.54523628 22.48152152 21.21632837\n",
      " 22.05372239 18.79516738 26.55926634 25.57623857 22.69087002 21.46208531\n",
      " 23.4827535  25.67636177 20.07856475 21.0433883  29.10785685 29.7632087\n",
      " 23.73761256 23.62838725 23.96516528 21.86257811 22.20845825 25.63085122\n",
      " 21.42567687 38.77429659 36.50787146 32.83061943 26.55926634 27.05078022\n",
      " 23.62838725 21.18902204 21.46208531 18.58581887 18.44928724 21.09800095\n",
      " 24.25643277 22.02641607 21.71694436 26.45004103 19.15014963 20.77942714\n",
      " 22.25396879 19.28668126 21.54400429 20.1331774  18.77696316 17.49356579\n",
      " 18.75875894 19.97844155 19.58705086 18.63132942 18.84067792 19.81460358\n",
      " 16.41951693 17.14768565 23.86504208 16.63796755 24.11079902 22.90932064\n",
      " 23.32801765 18.32185771 17.73022063 22.99123962 19.41411079 24.07439059\n",
      " 18.64043153 21.31645157 21.52580007 11.0128642  14.50807405 15.09971113\n",
      "  9.95701956 21.12530728 16.55604857 10.16636806 12.5329164  16.27388319\n",
      " 21.05249041 14.51717616 10.94914944 17.2933194  21.11620517 21.32555368\n",
      " 13.31569777 28.52532188 20.5427723  24.58410869 22.21756036 33.49507338\n",
      " 36.34403349 41.55954194 18.6131252  20.86134612 37.50000134 18.82247371\n",
      " 22.84560588 23.60108092 18.80426949 18.84978003 16.04633047 23.72851045\n",
      " 18.65863574 24.91178461 20.12407529 22.80919744 27.76984683 28.86209991\n",
      " 36.00725546 21.2527368  30.45496898 25.06652047 16.33759795 21.33465578\n",
      " 36.60799466 27.05988233 25.0028057  30.72803225 28.59813875 26.66849165\n",
      " 30.66431749 27.2237203  25.43970694 37.00848745 31.65644737 30.01806775\n",
      " 31.53811995 28.81658937 30.2729268  21.41657477 34.59642857 36.80824105\n",
      " 38.45572278 18.94990323 22.90932064 17.96687546 20.52456809 13.97104962\n",
      " 19.57794875 14.51717616 18.18532608 23.35532398 14.58999303 21.59861695\n",
      " 18.9225969  25.78558708 19.49602977 23.33711976 28.59813875 21.43477898\n",
      " 27.94278691 25.56713646 40.56741206 44.74528008 38.51033543 30.52778586\n",
      " 35.28818885 24.96639727 19.76909304 32.79421099 41.2136618  40.39447199\n",
      " 26.55016423 20.72481448 25.68546388 32.30269711 24.32014753 25.45791115\n",
      " 28.10662487 20.80673346 23.20058813 23.51916194 16.23747476 16.34670006\n",
      " 20.92506088 21.99910974 23.8832463  26.47734736 24.37476018 23.92875684\n",
      " 28.65275141 40.5036973  20.92506088 18.8133716  33.17649957 44.5541358\n",
      " 32.07514438 27.60600887 30.89187022 33.77723876 41.76889045 32.02053173\n",
      " 30.91917654 15.93710516 29.17157162 40.84957744 33.32213331 19.21386439\n",
      " 18.63132942 22.12653927 24.83896774 35.3336994  26.84143172 27.71523418\n",
      " 31.47440519 27.46037513 24.32924964 27.3329456  36.50787146 28.7528746\n",
      " 34.91500238 37.44538868 29.84512768 24.06528848 22.03551818 21.84437389\n",
      " 22.80919744 25.08472469 27.77894894 30.39125422 25.67636177 21.09800095\n",
      " 20.02395209 26.113263   24.93909094 18.03059022 23.08226071 29.41732856\n",
      " 27.86997003 25.31227741 24.44757706 28.88030413 31.19223981 25.54893224\n",
      " 32.86702786 27.66972364 25.72187231 19.68717406 10.59416719 21.05249041\n",
      " 20.15138162 22.3631941  25.1029289  17.25691096 19.15925174 17.95777335\n",
      " 23.41903874 20.97057143 23.81953154 23.36442609 20.31521958 17.28421729\n",
      " 23.71940834 23.86504208 22.78189111 20.69750816 18.74055473 22.9730354\n",
      " 21.2527368  17.26601307 20.22419849 22.81829955 22.76368689 20.27881114\n",
      " 18.74965683 18.98631167 20.47905754 19.80550148 19.65076562 31.23775036\n",
      " 24.85717196 26.27710096 27.89727636 20.06946264 19.01361799 24.63872134\n",
      " 25.72187231 28.48891344 24.40206651 25.21215421 18.88618847 26.56836845\n",
      " 16.87462238 19.35949814 21.87168021 23.53736616 21.09800095 20.96146932\n",
      " 23.56467249 22.22666246 14.13488758 18.14891764 45.24589608 -2.25801069\n",
      " 10.5031461   0.49082622 10.56686086 26.15877354 29.18977584 21.90808865\n",
      " 18.80426949  9.98432589  2.99390619 31.8931022  25.84930184 27.16910764\n",
      " 23.40083452 21.97180341 28.7528746  24.90268251 15.71865454 15.5730208\n",
      "  5.08739125 13.36120832  7.6723902  10.83992413  9.74767105 14.38974663\n",
      " 17.32972783 20.40624067 11.16760005 21.69874014 18.9134948  24.22912644\n",
      " 23.62838725 17.63919954 14.9631795  18.59492098 19.82370569 23.06405649\n",
      " 23.61928514 14.01656016 15.673144   17.05666456  2.99390619 16.37400639\n",
      " 16.45592537 27.69702996 17.73022063 25.92211871  7.45393959 12.25075102\n",
      "  6.46180971 23.89234841 27.05988233 13.60696526 19.55064242 27.44217091\n",
      " 23.6829999  19.99664576 16.73809075 20.87955034 15.9826157  18.99541378\n",
      " 18.45838935 21.78065912 21.69874014 23.40083452 23.10956704 27.52408989\n",
      " 23.81042943 23.91055263 21.83527178 25.66725966 24.13810535 21.32555368\n",
      " 19.35039603 16.54694646 18.28544928 23.63748936 21.93539498 24.35655597\n",
      " 18.6131252  24.11990113 23.04585227 22.22666246 21.62592327 23.73761256\n",
      " 26.75951274 25.90391449 22.64535948 32.62127092 26.56836845 24.72064033\n",
      " 19.7235825  19.35949814 22.68176791 20.67930394 26.32261151 23.36442609\n",
      " 22.82740166 24.61141502 21.84437389 17.74842485 19.50513188 19.96933944\n",
      " 19.26847705 17.32972783 21.46208531 22.02641607 23.91965474 28.86209991\n",
      " 14.72652466 21.41657477 24.34745386 13.60696526 21.62592327 22.02641607\n",
      " 22.14474348 26.76861485 29.59937074 17.77573117 18.76786105 22.78189111\n",
      " 20.97967353 19.07733276 14.97228161 14.60819725 11.68642026 19.78729726\n",
      " 19.78729726 17.27511518 19.26847705 16.93833715 14.38974663 18.06699866\n",
      " 20.11497318 16.01902414 20.18779005 25.33958374 21.03428619 28.82569148\n",
      " 27.16910764 20.21509638]\n"
     ]
    }
   ],
   "source": [
    "#Mostrando previsões a partir do modelo\n",
    "\n",
    "print(modeloV2.predict(X))"
   ]
  },
  {
   "cell_type": "code",
   "execution_count": 69,
   "id": "ace34414",
   "metadata": {},
   "outputs": [
    {
     "name": "stdout",
     "output_type": "stream",
     "text": [
      "Se RM = 5 nosso modelo prevê que a mediana da taxa de ocupação é 10.8\n"
     ]
    }
   ],
   "source": [
    "#Realizando novas previsões com o modelo a partir de um chute \n",
    "RM = 5\n",
    "Xp = np.array(RM).reshape(-1, 1)\n",
    "\n",
    "#Xp é uma matriz bidimensional criada a partir do valor de entrada RM usando o método np.array \n",
    "#em seguida, redimensionada com o método reshape(-1, 1). A chamada do método reshape \n",
    "#aqui é necessária porque o Scikit-learn espera que os dados de entrada tenham uma dimensão de duas colunas \n",
    "#(ou seja, uma matriz bidimensional) e, neste caso, estamos passando apenas um valor escalar RM.\n",
    "\n",
    "#O argumento -1 usado no método reshape permite que o número de linhas da matriz seja determinado automaticamente,\n",
    "#com base no número de elementos no vetor de entrada RM. O número de colunas é fixado como 1, \n",
    "#para garantir que a matriz resultante tenha duas dimensoes\n",
    "\n",
    "print (\"Se RM = %01.f nosso modelo prevê que a mediana da taxa de ocupação é %0.1f\" % (RM, modeloV2.predict(Xp)))"
   ]
  },
  {
   "cell_type": "code",
   "execution_count": null,
   "id": "742d9ecc",
   "metadata": {},
   "outputs": [],
   "source": []
  }
 ],
 "metadata": {
  "kernelspec": {
   "display_name": "Python 3 (ipykernel)",
   "language": "python",
   "name": "python3"
  },
  "language_info": {
   "codemirror_mode": {
    "name": "ipython",
    "version": 3
   },
   "file_extension": ".py",
   "mimetype": "text/x-python",
   "name": "python",
   "nbconvert_exporter": "python",
   "pygments_lexer": "ipython3",
   "version": "3.9.7"
  }
 },
 "nbformat": 4,
 "nbformat_minor": 5
}
